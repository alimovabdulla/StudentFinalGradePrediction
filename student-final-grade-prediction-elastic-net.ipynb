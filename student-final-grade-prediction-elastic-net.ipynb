{
 "cells": [
  {
   "cell_type": "code",
   "execution_count": 1,
   "id": "f2e39274",
   "metadata": {
    "_cell_guid": "b1076dfc-b9ad-4769-8c92-a6c4dae69d19",
    "_uuid": "8f2839f25d086af736a60e9eeb907d3b93b6e0e5",
    "execution": {
     "iopub.execute_input": "2025-01-25T16:11:49.724162Z",
     "iopub.status.busy": "2025-01-25T16:11:49.723805Z",
     "iopub.status.idle": "2025-01-25T16:11:53.186802Z",
     "shell.execute_reply": "2025-01-25T16:11:53.185654Z"
    },
    "papermill": {
     "duration": 3.472514,
     "end_time": "2025-01-25T16:11:53.189456",
     "exception": false,
     "start_time": "2025-01-25T16:11:49.716942",
     "status": "completed"
    },
    "tags": []
   },
   "outputs": [],
   "source": [
    "import pandas as pd\n",
    "import numpy as np\n",
    "import matplotlib.pyplot as plt\n",
    "import seaborn as sns\n",
    "from sklearn.model_selection import train_test_split , GridSearchCV\n",
    "from sklearn.linear_model import ElasticNet\n",
    "from sklearn.metrics import mean_squared_error, r2_score\n",
    "from sklearn.preprocessing import StandardScaler, LabelEncoder"
   ]
  },
  {
   "cell_type": "markdown",
   "id": "2834724b",
   "metadata": {
    "papermill": {
     "duration": 0.004414,
     "end_time": "2025-01-25T16:11:53.199107",
     "exception": false,
     "start_time": "2025-01-25T16:11:53.194693",
     "status": "completed"
    },
    "tags": []
   },
   "source": [
    "# EDA"
   ]
  },
  {
   "cell_type": "code",
   "execution_count": 2,
   "id": "14f98bac",
   "metadata": {
    "execution": {
     "iopub.execute_input": "2025-01-25T16:11:53.209839Z",
     "iopub.status.busy": "2025-01-25T16:11:53.209288Z",
     "iopub.status.idle": "2025-01-25T16:11:53.243680Z",
     "shell.execute_reply": "2025-01-25T16:11:53.242372Z"
    },
    "papermill": {
     "duration": 0.042036,
     "end_time": "2025-01-25T16:11:53.245752",
     "exception": false,
     "start_time": "2025-01-25T16:11:53.203716",
     "status": "completed"
    },
    "tags": []
   },
   "outputs": [],
   "source": [
    "data = pd.read_csv(f'/kaggle/input/student-final-grade-prediction-multi-lin-reg/student-mat.csv')"
   ]
  },
  {
   "cell_type": "code",
   "execution_count": 3,
   "id": "01187727",
   "metadata": {
    "execution": {
     "iopub.execute_input": "2025-01-25T16:11:53.257138Z",
     "iopub.status.busy": "2025-01-25T16:11:53.256801Z",
     "iopub.status.idle": "2025-01-25T16:11:53.299574Z",
     "shell.execute_reply": "2025-01-25T16:11:53.298408Z"
    },
    "papermill": {
     "duration": 0.050426,
     "end_time": "2025-01-25T16:11:53.301504",
     "exception": false,
     "start_time": "2025-01-25T16:11:53.251078",
     "status": "completed"
    },
    "tags": []
   },
   "outputs": [
    {
     "data": {
      "text/html": [
       "<div>\n",
       "<style scoped>\n",
       "    .dataframe tbody tr th:only-of-type {\n",
       "        vertical-align: middle;\n",
       "    }\n",
       "\n",
       "    .dataframe tbody tr th {\n",
       "        vertical-align: top;\n",
       "    }\n",
       "\n",
       "    .dataframe thead th {\n",
       "        text-align: right;\n",
       "    }\n",
       "</style>\n",
       "<table border=\"1\" class=\"dataframe\">\n",
       "  <thead>\n",
       "    <tr style=\"text-align: right;\">\n",
       "      <th></th>\n",
       "      <th>school</th>\n",
       "      <th>sex</th>\n",
       "      <th>age</th>\n",
       "      <th>address</th>\n",
       "      <th>famsize</th>\n",
       "      <th>Parrent_status</th>\n",
       "      <th>Mother_edu</th>\n",
       "      <th>Father_edu</th>\n",
       "      <th>Mother_job</th>\n",
       "      <th>Father_job</th>\n",
       "      <th>...</th>\n",
       "      <th>Family_quality_reln</th>\n",
       "      <th>freetime_after_school</th>\n",
       "      <th>goout_with_friends</th>\n",
       "      <th>workday_alcohol_consum</th>\n",
       "      <th>weekend_alcohol_consum</th>\n",
       "      <th>health_status</th>\n",
       "      <th>absences</th>\n",
       "      <th>G1</th>\n",
       "      <th>G2</th>\n",
       "      <th>G3</th>\n",
       "    </tr>\n",
       "  </thead>\n",
       "  <tbody>\n",
       "    <tr>\n",
       "      <th>0</th>\n",
       "      <td>GP</td>\n",
       "      <td>F</td>\n",
       "      <td>18</td>\n",
       "      <td>U</td>\n",
       "      <td>GT3</td>\n",
       "      <td>A</td>\n",
       "      <td>4</td>\n",
       "      <td>4</td>\n",
       "      <td>at_home</td>\n",
       "      <td>teacher</td>\n",
       "      <td>...</td>\n",
       "      <td>4</td>\n",
       "      <td>3</td>\n",
       "      <td>4</td>\n",
       "      <td>1</td>\n",
       "      <td>1</td>\n",
       "      <td>3</td>\n",
       "      <td>6</td>\n",
       "      <td>5</td>\n",
       "      <td>6</td>\n",
       "      <td>6</td>\n",
       "    </tr>\n",
       "    <tr>\n",
       "      <th>1</th>\n",
       "      <td>GP</td>\n",
       "      <td>F</td>\n",
       "      <td>17</td>\n",
       "      <td>U</td>\n",
       "      <td>GT3</td>\n",
       "      <td>T</td>\n",
       "      <td>1</td>\n",
       "      <td>1</td>\n",
       "      <td>at_home</td>\n",
       "      <td>other</td>\n",
       "      <td>...</td>\n",
       "      <td>5</td>\n",
       "      <td>3</td>\n",
       "      <td>3</td>\n",
       "      <td>1</td>\n",
       "      <td>1</td>\n",
       "      <td>3</td>\n",
       "      <td>4</td>\n",
       "      <td>5</td>\n",
       "      <td>5</td>\n",
       "      <td>6</td>\n",
       "    </tr>\n",
       "    <tr>\n",
       "      <th>2</th>\n",
       "      <td>GP</td>\n",
       "      <td>F</td>\n",
       "      <td>15</td>\n",
       "      <td>U</td>\n",
       "      <td>LE3</td>\n",
       "      <td>T</td>\n",
       "      <td>1</td>\n",
       "      <td>1</td>\n",
       "      <td>at_home</td>\n",
       "      <td>other</td>\n",
       "      <td>...</td>\n",
       "      <td>4</td>\n",
       "      <td>3</td>\n",
       "      <td>2</td>\n",
       "      <td>2</td>\n",
       "      <td>3</td>\n",
       "      <td>3</td>\n",
       "      <td>10</td>\n",
       "      <td>7</td>\n",
       "      <td>8</td>\n",
       "      <td>10</td>\n",
       "    </tr>\n",
       "    <tr>\n",
       "      <th>3</th>\n",
       "      <td>GP</td>\n",
       "      <td>F</td>\n",
       "      <td>15</td>\n",
       "      <td>U</td>\n",
       "      <td>GT3</td>\n",
       "      <td>T</td>\n",
       "      <td>4</td>\n",
       "      <td>2</td>\n",
       "      <td>health</td>\n",
       "      <td>services</td>\n",
       "      <td>...</td>\n",
       "      <td>3</td>\n",
       "      <td>2</td>\n",
       "      <td>2</td>\n",
       "      <td>1</td>\n",
       "      <td>1</td>\n",
       "      <td>5</td>\n",
       "      <td>2</td>\n",
       "      <td>15</td>\n",
       "      <td>14</td>\n",
       "      <td>15</td>\n",
       "    </tr>\n",
       "    <tr>\n",
       "      <th>4</th>\n",
       "      <td>GP</td>\n",
       "      <td>F</td>\n",
       "      <td>16</td>\n",
       "      <td>U</td>\n",
       "      <td>GT3</td>\n",
       "      <td>T</td>\n",
       "      <td>3</td>\n",
       "      <td>3</td>\n",
       "      <td>other</td>\n",
       "      <td>other</td>\n",
       "      <td>...</td>\n",
       "      <td>4</td>\n",
       "      <td>3</td>\n",
       "      <td>2</td>\n",
       "      <td>1</td>\n",
       "      <td>2</td>\n",
       "      <td>5</td>\n",
       "      <td>4</td>\n",
       "      <td>6</td>\n",
       "      <td>10</td>\n",
       "      <td>10</td>\n",
       "    </tr>\n",
       "  </tbody>\n",
       "</table>\n",
       "<p>5 rows × 33 columns</p>\n",
       "</div>"
      ],
      "text/plain": [
       "  school sex  age address famsize Parrent_status  Mother_edu  Father_edu  \\\n",
       "0     GP   F   18       U     GT3              A           4           4   \n",
       "1     GP   F   17       U     GT3              T           1           1   \n",
       "2     GP   F   15       U     LE3              T           1           1   \n",
       "3     GP   F   15       U     GT3              T           4           2   \n",
       "4     GP   F   16       U     GT3              T           3           3   \n",
       "\n",
       "  Mother_job Father_job  ... Family_quality_reln freetime_after_school  \\\n",
       "0    at_home    teacher  ...                   4                     3   \n",
       "1    at_home      other  ...                   5                     3   \n",
       "2    at_home      other  ...                   4                     3   \n",
       "3     health   services  ...                   3                     2   \n",
       "4      other      other  ...                   4                     3   \n",
       "\n",
       "   goout_with_friends  workday_alcohol_consum  weekend_alcohol_consum  \\\n",
       "0                   4                       1                       1   \n",
       "1                   3                       1                       1   \n",
       "2                   2                       2                       3   \n",
       "3                   2                       1                       1   \n",
       "4                   2                       1                       2   \n",
       "\n",
       "  health_status absences  G1  G2  G3  \n",
       "0             3        6   5   6   6  \n",
       "1             3        4   5   5   6  \n",
       "2             3       10   7   8  10  \n",
       "3             5        2  15  14  15  \n",
       "4             5        4   6  10  10  \n",
       "\n",
       "[5 rows x 33 columns]"
      ]
     },
     "execution_count": 3,
     "metadata": {},
     "output_type": "execute_result"
    }
   ],
   "source": [
    "data.head(5)"
   ]
  },
  {
   "cell_type": "code",
   "execution_count": 4,
   "id": "e41a7dba",
   "metadata": {
    "execution": {
     "iopub.execute_input": "2025-01-25T16:11:53.313545Z",
     "iopub.status.busy": "2025-01-25T16:11:53.313082Z",
     "iopub.status.idle": "2025-01-25T16:11:53.323505Z",
     "shell.execute_reply": "2025-01-25T16:11:53.322331Z"
    },
    "papermill": {
     "duration": 0.018628,
     "end_time": "2025-01-25T16:11:53.325438",
     "exception": false,
     "start_time": "2025-01-25T16:11:53.306810",
     "status": "completed"
    },
    "tags": []
   },
   "outputs": [
    {
     "data": {
      "text/plain": [
       "school                      0\n",
       "sex                         0\n",
       "age                         0\n",
       "address                     0\n",
       "famsize                     0\n",
       "Parrent_status              0\n",
       "Mother_edu                  0\n",
       "Father_edu                  0\n",
       "Mother_job                  0\n",
       "Father_job                  0\n",
       "reason_to_chose_school      0\n",
       "guardian                    0\n",
       "traveltime                  0\n",
       "weekly_studytime            0\n",
       "failures                    0\n",
       "extra_edu_supp              0\n",
       "family_edu_supp             0\n",
       "extra_paid_class            0\n",
       "extra_curr_activities       0\n",
       "nursery                     0\n",
       "Interested_in_higher_edu    0\n",
       "internet_access             0\n",
       "romantic_relationship       0\n",
       "Family_quality_reln         0\n",
       "freetime_after_school       0\n",
       "goout_with_friends          0\n",
       "workday_alcohol_consum      0\n",
       "weekend_alcohol_consum      0\n",
       "health_status               0\n",
       "absences                    0\n",
       "G1                          0\n",
       "G2                          0\n",
       "G3                          0\n",
       "dtype: int64"
      ]
     },
     "execution_count": 4,
     "metadata": {},
     "output_type": "execute_result"
    }
   ],
   "source": [
    "data.isnull().sum()"
   ]
  },
  {
   "cell_type": "code",
   "execution_count": 5,
   "id": "c4232906",
   "metadata": {
    "execution": {
     "iopub.execute_input": "2025-01-25T16:11:53.337379Z",
     "iopub.status.busy": "2025-01-25T16:11:53.337023Z",
     "iopub.status.idle": "2025-01-25T16:11:53.825261Z",
     "shell.execute_reply": "2025-01-25T16:11:53.824133Z"
    },
    "papermill": {
     "duration": 0.496326,
     "end_time": "2025-01-25T16:11:53.827233",
     "exception": false,
     "start_time": "2025-01-25T16:11:53.330907",
     "status": "completed"
    },
    "tags": []
   },
   "outputs": [
    {
     "data": {
      "text/plain": [
       "<Axes: >"
      ]
     },
     "execution_count": 5,
     "metadata": {},
     "output_type": "execute_result"
    },
    {
     "data": {
      "image/png": "[encoded data removed]",
      "text/plain": [
       "<Figure size 640x480 with 1 Axes>"
      ]
     },
     "metadata": {},
     "output_type": "display_data"
    }
   ],
   "source": [
    "sns.boxplot(data)"
   ]
  },
  {
   "cell_type": "markdown",
   "id": "ace7088e",
   "metadata": {
    "papermill": {
     "duration": 0.005425,
     "end_time": "2025-01-25T16:11:53.838659",
     "exception": false,
     "start_time": "2025-01-25T16:11:53.833234",
     "status": "completed"
    },
    "tags": []
   },
   "source": [
    "# Data Preparation"
   ]
  },
  {
   "cell_type": "code",
   "execution_count": 6,
   "id": "9b56b5ee",
   "metadata": {
    "execution": {
     "iopub.execute_input": "2025-01-25T16:11:53.852024Z",
     "iopub.status.busy": "2025-01-25T16:11:53.851570Z",
     "iopub.status.idle": "2025-01-25T16:11:53.857067Z",
     "shell.execute_reply": "2025-01-25T16:11:53.855859Z"
    },
    "papermill": {
     "duration": 0.014446,
     "end_time": "2025-01-25T16:11:53.858866",
     "exception": false,
     "start_time": "2025-01-25T16:11:53.844420",
     "status": "completed"
    },
    "tags": []
   },
   "outputs": [],
   "source": [
    "def encoder(data):\n",
    "    encoder = LabelEncoder()\n",
    "    for col in data.columns:\n",
    "        if data[col].dtype == 'object':\n",
    "            data[col] = encoder.fit_transform(data[col])\n",
    "    return data"
   ]
  },
  {
   "cell_type": "code",
   "execution_count": 7,
   "id": "075c3707",
   "metadata": {
    "execution": {
     "iopub.execute_input": "2025-01-25T16:11:53.872248Z",
     "iopub.status.busy": "2025-01-25T16:11:53.871896Z",
     "iopub.status.idle": "2025-01-25T16:11:53.887011Z",
     "shell.execute_reply": "2025-01-25T16:11:53.885791Z"
    },
    "papermill": {
     "duration": 0.024438,
     "end_time": "2025-01-25T16:11:53.889400",
     "exception": false,
     "start_time": "2025-01-25T16:11:53.864962",
     "status": "completed"
    },
    "tags": []
   },
   "outputs": [],
   "source": [
    "data = encoder(data)"
   ]
  },
  {
   "cell_type": "code",
   "execution_count": 8,
   "id": "78b136b2",
   "metadata": {
    "execution": {
     "iopub.execute_input": "2025-01-25T16:11:53.903447Z",
     "iopub.status.busy": "2025-01-25T16:11:53.903115Z",
     "iopub.status.idle": "2025-01-25T16:11:53.908848Z",
     "shell.execute_reply": "2025-01-25T16:11:53.907736Z"
    },
    "papermill": {
     "duration": 0.014556,
     "end_time": "2025-01-25T16:11:53.910701",
     "exception": false,
     "start_time": "2025-01-25T16:11:53.896145",
     "status": "completed"
    },
    "tags": []
   },
   "outputs": [],
   "source": [
    "def normalizer(df):\n",
    "    Q1 = df.quantile(0.25)\n",
    "    Q3 = df.quantile(0.75)\n",
    "    IQR = Q3 - Q1\n",
    "    upper_bound = Q3 + 1.5 * IQR\n",
    "    lower_bound = Q1 - 1.5 * IQR\n",
    "    for col in data.columns:\n",
    "        data[col] = data[col].apply(lambda x: upper_bound[col] if x > upper_bound[col] else (lower_bound[col] if x < lower_bound[col] else x))\n",
    "    return data"
   ]
  },
  {
   "cell_type": "code",
   "execution_count": 9,
   "id": "ef57216c",
   "metadata": {
    "execution": {
     "iopub.execute_input": "2025-01-25T16:11:53.924039Z",
     "iopub.status.busy": "2025-01-25T16:11:53.923688Z",
     "iopub.status.idle": "2025-01-25T16:11:54.019117Z",
     "shell.execute_reply": "2025-01-25T16:11:54.017940Z"
    },
    "papermill": {
     "duration": 0.104297,
     "end_time": "2025-01-25T16:11:54.021136",
     "exception": false,
     "start_time": "2025-01-25T16:11:53.916839",
     "status": "completed"
    },
    "tags": []
   },
   "outputs": [],
   "source": [
    "data = normalizer(data)"
   ]
  },
  {
   "cell_type": "code",
   "execution_count": 10,
   "id": "a2f98938",
   "metadata": {
    "execution": {
     "iopub.execute_input": "2025-01-25T16:11:54.034410Z",
     "iopub.status.busy": "2025-01-25T16:11:54.034059Z",
     "iopub.status.idle": "2025-01-25T16:11:54.038401Z",
     "shell.execute_reply": "2025-01-25T16:11:54.037522Z"
    },
    "papermill": {
     "duration": 0.013086,
     "end_time": "2025-01-25T16:11:54.040174",
     "exception": false,
     "start_time": "2025-01-25T16:11:54.027088",
     "status": "completed"
    },
    "tags": []
   },
   "outputs": [],
   "source": [
    "def scaler(X_train, X_test):\n",
    "    scaler = StandardScaler()\n",
    "    X_train_scaled = scaler.fit_transform(X_train)\n",
    "    X_test_scaled = scaler.transform(X_test)\n",
    "    return X_train_scaled, X_test_scaled"
   ]
  },
  {
   "cell_type": "markdown",
   "id": "24c7d20b",
   "metadata": {
    "papermill": {
     "duration": 0.00544,
     "end_time": "2025-01-25T16:11:54.051486",
     "exception": false,
     "start_time": "2025-01-25T16:11:54.046046",
     "status": "completed"
    },
    "tags": []
   },
   "source": [
    "# Model Building"
   ]
  },
  {
   "cell_type": "code",
   "execution_count": 11,
   "id": "5ed438cb",
   "metadata": {
    "execution": {
     "iopub.execute_input": "2025-01-25T16:11:54.064915Z",
     "iopub.status.busy": "2025-01-25T16:11:54.064411Z",
     "iopub.status.idle": "2025-01-25T16:11:54.072962Z",
     "shell.execute_reply": "2025-01-25T16:11:54.071917Z"
    },
    "papermill": {
     "duration": 0.017114,
     "end_time": "2025-01-25T16:11:54.074810",
     "exception": false,
     "start_time": "2025-01-25T16:11:54.057696",
     "status": "completed"
    },
    "tags": []
   },
   "outputs": [],
   "source": [
    "X = data.drop(columns='G3')\n",
    "y = data['G3']"
   ]
  },
  {
   "cell_type": "code",
   "execution_count": 12,
   "id": "b08c103b",
   "metadata": {
    "execution": {
     "iopub.execute_input": "2025-01-25T16:11:54.088328Z",
     "iopub.status.busy": "2025-01-25T16:11:54.087947Z",
     "iopub.status.idle": "2025-01-25T16:11:54.098474Z",
     "shell.execute_reply": "2025-01-25T16:11:54.097002Z"
    },
    "papermill": {
     "duration": 0.019892,
     "end_time": "2025-01-25T16:11:54.100924",
     "exception": false,
     "start_time": "2025-01-25T16:11:54.081032",
     "status": "completed"
    },
    "tags": []
   },
   "outputs": [],
   "source": [
    "X_train, X_test, y_train, y_test = train_test_split(X,y, test_size=0.2, random_state=42)"
   ]
  },
  {
   "cell_type": "code",
   "execution_count": 13,
   "id": "39a5127e",
   "metadata": {
    "execution": {
     "iopub.execute_input": "2025-01-25T16:11:54.114821Z",
     "iopub.status.busy": "2025-01-25T16:11:54.114345Z",
     "iopub.status.idle": "2025-01-25T16:11:54.140292Z",
     "shell.execute_reply": "2025-01-25T16:11:54.138768Z"
    },
    "papermill": {
     "duration": 0.03539,
     "end_time": "2025-01-25T16:11:54.142425",
     "exception": false,
     "start_time": "2025-01-25T16:11:54.107035",
     "status": "completed"
    },
    "tags": []
   },
   "outputs": [],
   "source": [
    "X_train_scaled, X_test_scaled = scaler(X_train, X_test)"
   ]
  },
  {
   "cell_type": "code",
   "execution_count": 14,
   "id": "2a988ea5",
   "metadata": {
    "execution": {
     "iopub.execute_input": "2025-01-25T16:11:54.156740Z",
     "iopub.status.busy": "2025-01-25T16:11:54.156309Z",
     "iopub.status.idle": "2025-01-25T16:11:54.411022Z",
     "shell.execute_reply": "2025-01-25T16:11:54.409889Z"
    },
    "papermill": {
     "duration": 0.264214,
     "end_time": "2025-01-25T16:11:54.412629",
     "exception": false,
     "start_time": "2025-01-25T16:11:54.148415",
     "status": "completed"
    },
    "tags": []
   },
   "outputs": [
    {
     "name": "stdout",
     "output_type": "stream",
     "text": [
      "Best Parameters:\n",
      "{'alpha': 0.1, 'l1_ratio': 1.0}\n"
     ]
    }
   ],
   "source": [
    "model = ElasticNet(alpha=1)\n",
    "param_grid = {\n",
    "    'alpha': [0.01, 0.1, 1, 10, 100],        # Regularization strength\n",
    "    'l1_ratio': [0.1, 0.5, 0.9, 1.0]        # Mix ratio between Lasso (L1) and Ridge (L2)\n",
    "}\n",
    "grid_search = GridSearchCV(estimator=model, cv=5, param_grid=param_grid)\n",
    "grid_search.fit(X_train_scaled, y_train)\n",
    "best_params = grid_search.best_params_\n",
    "print(f'Best Parameters:\\n{best_params}')"
   ]
  },
  {
   "cell_type": "code",
   "execution_count": 15,
   "id": "aedc5def",
   "metadata": {
    "execution": {
     "iopub.execute_input": "2025-01-25T16:11:54.425626Z",
     "iopub.status.busy": "2025-01-25T16:11:54.425232Z",
     "iopub.status.idle": "2025-01-25T16:11:54.430149Z",
     "shell.execute_reply": "2025-01-25T16:11:54.428761Z"
    },
    "papermill": {
     "duration": 0.013667,
     "end_time": "2025-01-25T16:11:54.432198",
     "exception": false,
     "start_time": "2025-01-25T16:11:54.418531",
     "status": "completed"
    },
    "tags": []
   },
   "outputs": [],
   "source": [
    "best_model = grid_search.best_estimator_"
   ]
  },
  {
   "cell_type": "code",
   "execution_count": 16,
   "id": "b512a05a",
   "metadata": {
    "execution": {
     "iopub.execute_input": "2025-01-25T16:11:54.445730Z",
     "iopub.status.busy": "2025-01-25T16:11:54.445251Z",
     "iopub.status.idle": "2025-01-25T16:11:54.450850Z",
     "shell.execute_reply": "2025-01-25T16:11:54.449420Z"
    },
    "papermill": {
     "duration": 0.014567,
     "end_time": "2025-01-25T16:11:54.452841",
     "exception": false,
     "start_time": "2025-01-25T16:11:54.438274",
     "status": "completed"
    },
    "tags": []
   },
   "outputs": [],
   "source": [
    "y_pred = best_model.predict(X_test_scaled)"
   ]
  },
  {
   "cell_type": "code",
   "execution_count": 17,
   "id": "6395cca3",
   "metadata": {
    "execution": {
     "iopub.execute_input": "2025-01-25T16:11:54.474084Z",
     "iopub.status.busy": "2025-01-25T16:11:54.471952Z",
     "iopub.status.idle": "2025-01-25T16:11:54.482105Z",
     "shell.execute_reply": "2025-01-25T16:11:54.480667Z"
    },
    "papermill": {
     "duration": 0.025709,
     "end_time": "2025-01-25T16:11:54.485037",
     "exception": false,
     "start_time": "2025-01-25T16:11:54.459328",
     "status": "completed"
    },
    "tags": []
   },
   "outputs": [],
   "source": [
    "MSE = mean_squared_error(y_test, y_pred)\n",
    "R2 = r2_score(y_test, y_pred)"
   ]
  },
  {
   "cell_type": "code",
   "execution_count": 18,
   "id": "5f9e878a",
   "metadata": {
    "execution": {
     "iopub.execute_input": "2025-01-25T16:11:54.504363Z",
     "iopub.status.busy": "2025-01-25T16:11:54.503784Z",
     "iopub.status.idle": "2025-01-25T16:11:54.511879Z",
     "shell.execute_reply": "2025-01-25T16:11:54.510375Z"
    },
    "papermill": {
     "duration": 0.022546,
     "end_time": "2025-01-25T16:11:54.515524",
     "exception": false,
     "start_time": "2025-01-25T16:11:54.492978",
     "status": "completed"
    },
    "tags": []
   },
   "outputs": [
    {
     "name": "stdout",
     "output_type": "stream",
     "text": [
      "R2:\n",
      "79%\n",
      "MSE:\n",
      "4.40\n"
     ]
    }
   ],
   "source": [
    "print(f'R2:\\n{R2*100:.0f}%\\nMSE:\\n{MSE:.2f}')"
   ]
  },
  {
   "cell_type": "code",
   "execution_count": 19,
   "id": "cd63780a",
   "metadata": {
    "execution": {
     "iopub.execute_input": "2025-01-25T16:11:54.534031Z",
     "iopub.status.busy": "2025-01-25T16:11:54.533534Z",
     "iopub.status.idle": "2025-01-25T16:11:54.897409Z",
     "shell.execute_reply": "2025-01-25T16:11:54.896201Z"
    },
    "papermill": {
     "duration": 0.374416,
     "end_time": "2025-01-25T16:11:54.899448",
     "exception": false,
     "start_time": "2025-01-25T16:11:54.525032",
     "status": "completed"
    },
    "tags": []
   },
   "outputs": [
    {
     "data": {
      "image/png": "[encoded data removed]",
      "text/plain": [
       "<Figure size 800x600 with 1 Axes>"
      ]
     },
     "metadata": {},
     "output_type": "display_data"
    }
   ],
   "source": [
    "plt.figure(figsize=(8,6))\n",
    "plt.scatter(y_test,y_pred, c='g')\n",
    "plt.plot([y_test.min(), y_test.max()], [y_test.min(), y_test.max()], color='r', linewidth=2, label='Ideal Xett')\n",
    "plt.title('Elastic Net')\n",
    "plt.xlabel('Real')\n",
    "plt.ylabel('Proqnoz')\n",
    "plt.legend()\n",
    "plt.show()"
   ]
  },
  {
   "cell_type": "code",
   "execution_count": null,
   "id": "6c9d908d",
   "metadata": {
    "papermill": {
     "duration": 0.006802,
     "end_time": "2025-01-25T16:11:54.913119",
     "exception": false,
     "start_time": "2025-01-25T16:11:54.906317",
     "status": "completed"
    },
    "tags": []
   },
   "outputs": [],
   "source": []
  }
 ],
 "metadata": {
  "kaggle": {
   "accelerator": "none",
   "dataSources": [
    {
     "datasetId": 4312217,
     "sourceId": 7413268,
     "sourceType": "datasetVersion"
    }
   ],
   "dockerImageVersionId": 30839,
   "isGpuEnabled": false,
   "isInternetEnabled": true,
   "language": "python",
   "sourceType": "notebook"
  },
  "kernelspec": {
   "display_name": "Python 3",
   "language": "python",
   "name": "python3"
  },
  "language_info": {
   "codemirror_mode": {
    "name": "ipython",
    "version": 3
   },
   "file_extension": ".py",
   "mimetype": "text/x-python",
   "name": "python",
   "nbconvert_exporter": "python",
   "pygments_lexer": "ipython3",
   "version": "3.10.12"
  },
  "papermill": {
   "default_parameters": {},
   "duration": 8.955688,
   "end_time": "2025-01-25T16:11:55.740989",
   "environment_variables": {},
   "exception": null,
   "input_path": "__notebook__.ipynb",
   "output_path": "__notebook__.ipynb",
   "parameters": {},
   "start_time": "2025-01-25T16:11:46.785301",
   "version": "2.6.0"
  }
 },
 "nbformat": 4,
 "nbformat_minor": 5
}
